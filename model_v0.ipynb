{
 "cells": [
  {
   "cell_type": "code",
   "execution_count": 1,
   "id": "cea91d4b",
   "metadata": {},
   "outputs": [
    {
     "name": "stdout",
     "output_type": "stream",
     "text": [
      "\n",
      "\n",
      "  =============================  \n",
      "      Image size: ( 3 , 3 )\n",
      "      Kernel size: ( 2 , 2 )\n",
      "  =============================  \n",
      "\n"
     ]
    },
    {
     "ename": "FileExistsError",
     "evalue": "[Errno 17] File exists: 'index.txt'",
     "output_type": "error",
     "traceback": [
      "\u001b[0;31m---------------------------------------------------------------------------\u001b[0m",
      "\u001b[0;31mFileExistsError\u001b[0m                           Traceback (most recent call last)",
      "Input \u001b[0;32mIn [1]\u001b[0m, in \u001b[0;36m<cell line: 72>\u001b[0;34m()\u001b[0m\n\u001b[1;32m     66\u001b[0m stride \u001b[38;5;241m=\u001b[39m \u001b[38;5;241m1\u001b[39m\n\u001b[1;32m     68\u001b[0m \u001b[38;5;66;03m# ===================================================\u001b[39;00m\n\u001b[1;32m     69\u001b[0m \u001b[38;5;66;03m#\t\t\t\t   Functions calls\u001b[39;00m\n\u001b[1;32m     70\u001b[0m \u001b[38;5;66;03m# ===================================================\u001b[39;00m\n\u001b[0;32m---> 72\u001b[0m \u001b[43mwindowing\u001b[49m\u001b[43m(\u001b[49m\u001b[43mx_axis\u001b[49m\u001b[43m,\u001b[49m\u001b[43m \u001b[49m\u001b[43my_axis\u001b[49m\u001b[43m,\u001b[49m\u001b[43m \u001b[49m\u001b[43mx_kern\u001b[49m\u001b[43m,\u001b[49m\u001b[43m \u001b[49m\u001b[43my_kern\u001b[49m\u001b[43m,\u001b[49m\u001b[43m \u001b[49m\u001b[43mstride\u001b[49m\u001b[43m)\u001b[49m\n",
      "Input \u001b[0;32mIn [1]\u001b[0m, in \u001b[0;36mwindowing\u001b[0;34m(x_axis, y_axis, x_kern, y_kern, stride)\u001b[0m\n\u001b[1;32m      7\u001b[0m \u001b[38;5;28;01mdef\u001b[39;00m \u001b[38;5;21mwindowing\u001b[39m(x_axis, y_axis, x_kern, y_kern, stride):\n\u001b[1;32m      8\u001b[0m \t\u001b[38;5;66;03m# _____________________________________________\u001b[39;00m\n\u001b[1;32m      9\u001b[0m \t\u001b[38;5;66;03m# _________________ VARIABLES _________________ \u001b[39;00m\n\u001b[0;32m---> 11\u001b[0m \tf \u001b[38;5;241m=\u001b[39m \u001b[38;5;28;43mopen\u001b[39;49m\u001b[43m(\u001b[49m\u001b[38;5;124;43m'\u001b[39;49m\u001b[38;5;124;43mindex.txt\u001b[39;49m\u001b[38;5;124;43m'\u001b[39;49m\u001b[43m,\u001b[49m\u001b[38;5;124;43m'\u001b[39;49m\u001b[38;5;124;43mx\u001b[39;49m\u001b[38;5;124;43m'\u001b[39;49m\u001b[43m)\u001b[49m\n\u001b[1;32m     12\u001b[0m \tk \u001b[38;5;241m=\u001b[39m \u001b[38;5;241m1\u001b[39m; j \u001b[38;5;241m=\u001b[39m \u001b[38;5;241m0\u001b[39m\n\u001b[1;32m     13\u001b[0m \tr \u001b[38;5;241m=\u001b[39m np\u001b[38;5;241m.\u001b[39marray([]); w \u001b[38;5;241m=\u001b[39m np\u001b[38;5;241m.\u001b[39marray([])\n",
      "\u001b[0;31mFileExistsError\u001b[0m: [Errno 17] File exists: 'index.txt'"
     ]
    }
   ],
   "source": [
    "import numpy as np\n",
    "\n",
    "# ===================================================\n",
    "#\t\t\t\t\t  FUNCTIONS\n",
    "# ===================================================\n",
    "\n",
    "def windowing(x_axis, y_axis, x_kern, y_kern, stride):\n",
    "\t# _____________________________________________\n",
    "\t# _________________ VARIABLES _________________ \n",
    "\n",
    "\tf = open('index.txt','x')\n",
    "\tk = 1; j = 0\n",
    "\tr = np.array([]); w = np.array([])\n",
    "\tkern_size = x_kern * y_kern\n",
    "\trout_size = (x_axis - x_kern + 1)/stride\n",
    "\tcout_size = (y_axis - y_kern + 1)/stride\n",
    "\toutp_size = rout_size * cout_size\n",
    "\t# _____________________________________________\n",
    "\t# ________________FIRST WINDOW_________________ \n",
    "\n",
    "\tfor i in range(kern_size):\n",
    "\t\tr = np.append(r, [j])\n",
    "\t\tif ((i+1)%x_kern==0):\n",
    "\t\t\tj = k * x_axis\n",
    "\t\t\tk = k+1\n",
    "\t\t\tw = np.append(w, r)\n",
    "\t\t\tr = np.array([])\n",
    "\t\telse:\n",
    "\t\t\tj = j+stride\n",
    "\t#                             -> SAVE IN FILE...\n",
    "\tprint(\"w =\",w,\"\\n\")\n",
    "\t# _____________________________________________\n",
    "\t# _______________OTHER WINDOWS_________________\n",
    "\t\n",
    "\tw = np.matrix(w)\n",
    "\tfor h in range(4):\n",
    "\t\twith open('index.txt','a') as f:\n",
    "\t\t\tf.write(\"\\n\")\n",
    "\t\t\tw = w.getT()\n",
    "\t\t\tfor line in w:\n",
    "\t\t\t\tnp.savetxt(f, line, fmt='%d', newline='\\n')\n",
    "\t\tif((h+1)%(rout_size) == 0):\n",
    "\t\t\tw = w + x_kern\n",
    "\t\telse:\n",
    "\t\t\tw = w + stride\n",
    "\t\tw = w.getT()\n",
    "\n",
    "# ===================================================\n",
    "#\t\t\t\t\tInitialization\n",
    "# ===================================================\n",
    "\n",
    "print(\"\\n\") # to begin a more friendly human-machine interface\n",
    "\n",
    "# ------------------------ INPUT\n",
    "x_axis = 3\n",
    "y_axis = 3\n",
    "print(\"  =============================  \")\n",
    "print(\"      Image size: (\",x_axis,\",\",y_axis,\")\")\n",
    "\n",
    "# ------------------------ WINDOW\n",
    "x_kern = 2\n",
    "y_kern = 2\n",
    "print(\"      Kernel size: (\",x_kern,\",\",y_kern,\")\")\n",
    "print(\"  =============================  \\n\")\n",
    "\n",
    "stride = 1\n",
    "\n",
    "# ===================================================\n",
    "#\t\t\t\t   Functions calls\n",
    "# ===================================================\n",
    "\n",
    "windowing(x_axis, y_axis, x_kern, y_kern, stride)"
   ]
  },
  {
   "cell_type": "markdown",
   "id": "6a18e6ef",
   "metadata": {},
   "source": [
    "\n",
    "0 1\n",
    "3 4\n",
    "\n",
    "1 2\n",
    "4 5\n",
    "\n",
    "3 4\n",
    "6 7\n",
    "\n",
    "4 5\n",
    "7 8"
   ]
  }
 ],
 "metadata": {
  "kernelspec": {
   "display_name": "Python 3 (ipykernel)",
   "language": "python",
   "name": "python3"
  },
  "language_info": {
   "codemirror_mode": {
    "name": "ipython",
    "version": 3
   },
   "file_extension": ".py",
   "mimetype": "text/x-python",
   "name": "python",
   "nbconvert_exporter": "python",
   "pygments_lexer": "ipython3",
   "version": "3.9.12"
  }
 },
 "nbformat": 4,
 "nbformat_minor": 5
}
